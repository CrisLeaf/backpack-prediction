{
 "cells": [
  {
   "cell_type": "markdown",
   "metadata": {},
   "source": [
    "# Imports"
   ]
  },
  {
   "cell_type": "code",
   "execution_count": 1,
   "metadata": {},
   "outputs": [],
   "source": [
    "import numpy as np\n",
    "import pandas as pd\n",
    "import matplotlib.pyplot as plt\n",
    "import seaborn as sns\n",
    "\n",
    "pd.set_option('display.max_columns', None)\n",
    "sns.set_style('darkgrid')\n",
    "\n",
    "from sklearn.linear_model import LinearRegression\n",
    "from sklearn.model_selection import cross_validate\n",
    "from sklearn.ensemble import RandomForestRegressor\n",
    "\n",
    "from lightgbm import LGBMRegressor"
   ]
  },
  {
   "cell_type": "code",
   "execution_count": 2,
   "metadata": {},
   "outputs": [],
   "source": [
    "random_seed = 3746"
   ]
  },
  {
   "cell_type": "markdown",
   "metadata": {},
   "source": [
    "## Data"
   ]
  },
  {
   "cell_type": "code",
   "execution_count": 3,
   "metadata": {},
   "outputs": [],
   "source": [
    "DATA_PATH = '../data/'\n",
    "\n",
    "X_train = pd.read_pickle(DATA_PATH + 'X_train.pkl')\n",
    "y_train = pd.read_pickle(DATA_PATH + 'y_train.pkl')\n",
    "X_test = pd.read_pickle(DATA_PATH + 'X_test.pkl')\n",
    "y_test = pd.read_pickle(DATA_PATH + 'y_test.pkl')\n",
    "\n",
    "X_train.drop('id', axis=1, inplace=True)\n",
    "X_test.drop('id', axis=1, inplace=True)\n"
   ]
  },
  {
   "cell_type": "markdown",
   "metadata": {},
   "source": [
    "# Modeling"
   ]
  },
  {
   "cell_type": "markdown",
   "metadata": {},
   "source": [
    "## Linear Regression"
   ]
  },
  {
   "cell_type": "code",
   "execution_count": 4,
   "metadata": {},
   "outputs": [
    {
     "name": "stdout",
     "output_type": "stream",
     "text": [
      "CV Score RMSE: 39.024050163400105\n"
     ]
    }
   ],
   "source": [
    "linreg = LinearRegression()\n",
    "mse = -cross_validate(linreg, X_train, y_train, cv=5, scoring='neg_mean_squared_error')['test_score'].mean()\n",
    "\n",
    "rmse = np.sqrt(mse)\n",
    "print(f'CV Score RMSE: {rmse}')"
   ]
  },
  {
   "cell_type": "code",
   "execution_count": 5,
   "metadata": {},
   "outputs": [
    {
     "data": {
      "text/html": [
       "<div>\n",
       "<style scoped>\n",
       "    .dataframe tbody tr th:only-of-type {\n",
       "        vertical-align: middle;\n",
       "    }\n",
       "\n",
       "    .dataframe tbody tr th {\n",
       "        vertical-align: top;\n",
       "    }\n",
       "\n",
       "    .dataframe thead th {\n",
       "        text-align: right;\n",
       "    }\n",
       "</style>\n",
       "<table border=\"1\" class=\"dataframe\">\n",
       "  <thead>\n",
       "    <tr style=\"text-align: right;\">\n",
       "      <th></th>\n",
       "      <th>Compartments</th>\n",
       "      <th>Weight Capacity (kg)</th>\n",
       "      <th>Brand_Jansport</th>\n",
       "      <th>Brand_Nike</th>\n",
       "      <th>Brand_Puma</th>\n",
       "      <th>Brand_Under Armour</th>\n",
       "      <th>Material_Leather</th>\n",
       "      <th>Material_Nylon</th>\n",
       "      <th>Material_Polyester</th>\n",
       "      <th>Style_Messenger</th>\n",
       "      <th>Style_Tote</th>\n",
       "      <th>Color_Blue</th>\n",
       "      <th>Color_Gray</th>\n",
       "      <th>Color_Green</th>\n",
       "      <th>Color_Pink</th>\n",
       "      <th>Color_Red</th>\n",
       "    </tr>\n",
       "  </thead>\n",
       "  <tbody>\n",
       "    <tr>\n",
       "      <th>48338</th>\n",
       "      <td>9.0</td>\n",
       "      <td>5.000000</td>\n",
       "      <td>0</td>\n",
       "      <td>1</td>\n",
       "      <td>0</td>\n",
       "      <td>0</td>\n",
       "      <td>0</td>\n",
       "      <td>0</td>\n",
       "      <td>0</td>\n",
       "      <td>0</td>\n",
       "      <td>0</td>\n",
       "      <td>0</td>\n",
       "      <td>0</td>\n",
       "      <td>0</td>\n",
       "      <td>0</td>\n",
       "      <td>0</td>\n",
       "    </tr>\n",
       "    <tr>\n",
       "      <th>270688</th>\n",
       "      <td>4.0</td>\n",
       "      <td>14.898771</td>\n",
       "      <td>0</td>\n",
       "      <td>1</td>\n",
       "      <td>0</td>\n",
       "      <td>0</td>\n",
       "      <td>0</td>\n",
       "      <td>1</td>\n",
       "      <td>0</td>\n",
       "      <td>1</td>\n",
       "      <td>0</td>\n",
       "      <td>0</td>\n",
       "      <td>1</td>\n",
       "      <td>0</td>\n",
       "      <td>0</td>\n",
       "      <td>0</td>\n",
       "    </tr>\n",
       "    <tr>\n",
       "      <th>235982</th>\n",
       "      <td>5.0</td>\n",
       "      <td>23.010190</td>\n",
       "      <td>0</td>\n",
       "      <td>0</td>\n",
       "      <td>0</td>\n",
       "      <td>1</td>\n",
       "      <td>1</td>\n",
       "      <td>0</td>\n",
       "      <td>0</td>\n",
       "      <td>0</td>\n",
       "      <td>1</td>\n",
       "      <td>0</td>\n",
       "      <td>0</td>\n",
       "      <td>1</td>\n",
       "      <td>0</td>\n",
       "      <td>0</td>\n",
       "    </tr>\n",
       "    <tr>\n",
       "      <th>254122</th>\n",
       "      <td>9.0</td>\n",
       "      <td>14.165887</td>\n",
       "      <td>0</td>\n",
       "      <td>0</td>\n",
       "      <td>1</td>\n",
       "      <td>0</td>\n",
       "      <td>0</td>\n",
       "      <td>0</td>\n",
       "      <td>1</td>\n",
       "      <td>0</td>\n",
       "      <td>1</td>\n",
       "      <td>0</td>\n",
       "      <td>0</td>\n",
       "      <td>1</td>\n",
       "      <td>0</td>\n",
       "      <td>0</td>\n",
       "    </tr>\n",
       "    <tr>\n",
       "      <th>50273</th>\n",
       "      <td>8.0</td>\n",
       "      <td>24.913873</td>\n",
       "      <td>1</td>\n",
       "      <td>0</td>\n",
       "      <td>0</td>\n",
       "      <td>0</td>\n",
       "      <td>1</td>\n",
       "      <td>0</td>\n",
       "      <td>0</td>\n",
       "      <td>0</td>\n",
       "      <td>1</td>\n",
       "      <td>0</td>\n",
       "      <td>0</td>\n",
       "      <td>0</td>\n",
       "      <td>1</td>\n",
       "      <td>0</td>\n",
       "    </tr>\n",
       "    <tr>\n",
       "      <th>...</th>\n",
       "      <td>...</td>\n",
       "      <td>...</td>\n",
       "      <td>...</td>\n",
       "      <td>...</td>\n",
       "      <td>...</td>\n",
       "      <td>...</td>\n",
       "      <td>...</td>\n",
       "      <td>...</td>\n",
       "      <td>...</td>\n",
       "      <td>...</td>\n",
       "      <td>...</td>\n",
       "      <td>...</td>\n",
       "      <td>...</td>\n",
       "      <td>...</td>\n",
       "      <td>...</td>\n",
       "      <td>...</td>\n",
       "    </tr>\n",
       "    <tr>\n",
       "      <th>230550</th>\n",
       "      <td>5.0</td>\n",
       "      <td>5.000000</td>\n",
       "      <td>1</td>\n",
       "      <td>0</td>\n",
       "      <td>0</td>\n",
       "      <td>0</td>\n",
       "      <td>0</td>\n",
       "      <td>0</td>\n",
       "      <td>1</td>\n",
       "      <td>1</td>\n",
       "      <td>0</td>\n",
       "      <td>0</td>\n",
       "      <td>0</td>\n",
       "      <td>0</td>\n",
       "      <td>0</td>\n",
       "      <td>1</td>\n",
       "    </tr>\n",
       "    <tr>\n",
       "      <th>239588</th>\n",
       "      <td>8.0</td>\n",
       "      <td>16.918774</td>\n",
       "      <td>0</td>\n",
       "      <td>0</td>\n",
       "      <td>1</td>\n",
       "      <td>0</td>\n",
       "      <td>0</td>\n",
       "      <td>0</td>\n",
       "      <td>0</td>\n",
       "      <td>0</td>\n",
       "      <td>1</td>\n",
       "      <td>0</td>\n",
       "      <td>0</td>\n",
       "      <td>0</td>\n",
       "      <td>1</td>\n",
       "      <td>0</td>\n",
       "    </tr>\n",
       "    <tr>\n",
       "      <th>20576</th>\n",
       "      <td>10.0</td>\n",
       "      <td>28.372044</td>\n",
       "      <td>0</td>\n",
       "      <td>1</td>\n",
       "      <td>0</td>\n",
       "      <td>0</td>\n",
       "      <td>0</td>\n",
       "      <td>0</td>\n",
       "      <td>0</td>\n",
       "      <td>0</td>\n",
       "      <td>0</td>\n",
       "      <td>0</td>\n",
       "      <td>0</td>\n",
       "      <td>0</td>\n",
       "      <td>1</td>\n",
       "      <td>0</td>\n",
       "    </tr>\n",
       "    <tr>\n",
       "      <th>195610</th>\n",
       "      <td>5.0</td>\n",
       "      <td>14.445700</td>\n",
       "      <td>0</td>\n",
       "      <td>0</td>\n",
       "      <td>0</td>\n",
       "      <td>1</td>\n",
       "      <td>0</td>\n",
       "      <td>1</td>\n",
       "      <td>0</td>\n",
       "      <td>0</td>\n",
       "      <td>0</td>\n",
       "      <td>0</td>\n",
       "      <td>1</td>\n",
       "      <td>0</td>\n",
       "      <td>0</td>\n",
       "      <td>0</td>\n",
       "    </tr>\n",
       "    <tr>\n",
       "      <th>84561</th>\n",
       "      <td>10.0</td>\n",
       "      <td>15.904639</td>\n",
       "      <td>0</td>\n",
       "      <td>0</td>\n",
       "      <td>0</td>\n",
       "      <td>1</td>\n",
       "      <td>0</td>\n",
       "      <td>1</td>\n",
       "      <td>0</td>\n",
       "      <td>0</td>\n",
       "      <td>0</td>\n",
       "      <td>0</td>\n",
       "      <td>0</td>\n",
       "      <td>0</td>\n",
       "      <td>0</td>\n",
       "      <td>1</td>\n",
       "    </tr>\n",
       "  </tbody>\n",
       "</table>\n",
       "<p>240000 rows × 16 columns</p>\n",
       "</div>"
      ],
      "text/plain": [
       "        Compartments  Weight Capacity (kg)  Brand_Jansport  Brand_Nike  \\\n",
       "48338            9.0              5.000000               0           1   \n",
       "270688           4.0             14.898771               0           1   \n",
       "235982           5.0             23.010190               0           0   \n",
       "254122           9.0             14.165887               0           0   \n",
       "50273            8.0             24.913873               1           0   \n",
       "...              ...                   ...             ...         ...   \n",
       "230550           5.0              5.000000               1           0   \n",
       "239588           8.0             16.918774               0           0   \n",
       "20576           10.0             28.372044               0           1   \n",
       "195610           5.0             14.445700               0           0   \n",
       "84561           10.0             15.904639               0           0   \n",
       "\n",
       "        Brand_Puma  Brand_Under Armour  Material_Leather  Material_Nylon  \\\n",
       "48338            0                   0                 0               0   \n",
       "270688           0                   0                 0               1   \n",
       "235982           0                   1                 1               0   \n",
       "254122           1                   0                 0               0   \n",
       "50273            0                   0                 1               0   \n",
       "...            ...                 ...               ...             ...   \n",
       "230550           0                   0                 0               0   \n",
       "239588           1                   0                 0               0   \n",
       "20576            0                   0                 0               0   \n",
       "195610           0                   1                 0               1   \n",
       "84561            0                   1                 0               1   \n",
       "\n",
       "        Material_Polyester  Style_Messenger  Style_Tote  Color_Blue  \\\n",
       "48338                    0                0           0           0   \n",
       "270688                   0                1           0           0   \n",
       "235982                   0                0           1           0   \n",
       "254122                   1                0           1           0   \n",
       "50273                    0                0           1           0   \n",
       "...                    ...              ...         ...         ...   \n",
       "230550                   1                1           0           0   \n",
       "239588                   0                0           1           0   \n",
       "20576                    0                0           0           0   \n",
       "195610                   0                0           0           0   \n",
       "84561                    0                0           0           0   \n",
       "\n",
       "        Color_Gray  Color_Green  Color_Pink  Color_Red  \n",
       "48338            0            0           0          0  \n",
       "270688           1            0           0          0  \n",
       "235982           0            1           0          0  \n",
       "254122           0            1           0          0  \n",
       "50273            0            0           1          0  \n",
       "...            ...          ...         ...        ...  \n",
       "230550           0            0           0          1  \n",
       "239588           0            0           1          0  \n",
       "20576            0            0           1          0  \n",
       "195610           1            0           0          0  \n",
       "84561            0            0           0          1  \n",
       "\n",
       "[240000 rows x 16 columns]"
      ]
     },
     "execution_count": 5,
     "metadata": {},
     "output_type": "execute_result"
    }
   ],
   "source": [
    "X_train"
   ]
  },
  {
   "cell_type": "code",
   "execution_count": 6,
   "metadata": {},
   "outputs": [
    {
     "name": "stdout",
     "output_type": "stream",
     "text": [
      "Test set RMSE: 39.01352159061797\n"
     ]
    }
   ],
   "source": [
    "linreg.fit(X_train, y_train)\n",
    "\n",
    "y_pred = linreg.predict(X_test)\n",
    "\n",
    "rmse = np.sqrt(np.mean((y_pred - y_test) ** 2))\n",
    "print(f'Test set RMSE: {rmse}')"
   ]
  },
  {
   "cell_type": "code",
   "execution_count": 7,
   "metadata": {},
   "outputs": [
    {
     "data": {
      "image/png": "[encoded data removed]",
      "text/plain": [
       "<Figure size 600x400 with 1 Axes>"
      ]
     },
     "metadata": {},
     "output_type": "display_data"
    }
   ],
   "source": [
    "plt.figure(figsize=(6, 4))\n",
    "sns.scatterplot(x=y_test, y=y_pred, alpha=0.2, linewidth=0)\n",
    "sns.lineplot(\n",
    "    x=[y_test.min(), y_test.max()], \n",
    "    y=[y_test.min(), y_test.max()],\n",
    "    color='red'\n",
    ")\n",
    "plt.show()"
   ]
  },
  {
   "cell_type": "markdown",
   "metadata": {},
   "source": [
    "## LGBM Regressor"
   ]
  },
  {
   "cell_type": "code",
   "execution_count": 8,
   "metadata": {},
   "outputs": [
    {
     "name": "stdout",
     "output_type": "stream",
     "text": [
      "CV Score RMSE: 39.031575080212015\n"
     ]
    }
   ],
   "source": [
    "lgbm = LGBMRegressor(random_state=random_seed, verbose=-1)\n",
    "\n",
    "mse = -cross_validate(lgbm, X_train, y_train, cv=5, scoring='neg_mean_squared_error')['test_score'].mean()\n",
    "\n",
    "rmse = np.sqrt(mse)\n",
    "print(f'CV Score RMSE: {rmse}')"
   ]
  },
  {
   "cell_type": "code",
   "execution_count": 9,
   "metadata": {},
   "outputs": [
    {
     "name": "stdout",
     "output_type": "stream",
     "text": [
      "Test set RMSE: 39.01332238567065\n"
     ]
    }
   ],
   "source": [
    "lgbm.fit(X_train, y_train)\n",
    "\n",
    "y_pred = lgbm.predict(X_test)\n",
    "\n",
    "rmse = np.sqrt(np.mean((y_pred - y_test) ** 2))\n",
    "print(f'Test set RMSE: {rmse}')"
   ]
  },
  {
   "cell_type": "code",
   "execution_count": 10,
   "metadata": {},
   "outputs": [
    {
     "data": {
      "image/png": "[encoded data removed]",
      "text/plain": [
       "<Figure size 600x400 with 1 Axes>"
      ]
     },
     "metadata": {},
     "output_type": "display_data"
    }
   ],
   "source": [
    "plt.figure(figsize=(6, 4))\n",
    "sns.scatterplot(x=y_test, y=y_pred, alpha=0.2, linewidth=0)\n",
    "sns.lineplot(\n",
    "    x=[y_test.min(), y_test.max()], \n",
    "    y=[y_test.min(), y_test.max()],\n",
    "    color='red'\n",
    ")\n",
    "plt.show()"
   ]
  },
  {
   "cell_type": "markdown",
   "metadata": {},
   "source": [
    "# Interpretation"
   ]
  },
  {
   "cell_type": "markdown",
   "metadata": {},
   "source": [
    "## Feature Importances"
   ]
  },
  {
   "cell_type": "code",
   "execution_count": 11,
   "metadata": {},
   "outputs": [],
   "source": [
    "feature_names = X_train.columns\n",
    "importances = lgbm.feature_importances_\n",
    "\n",
    "importances_df = pd.DataFrame({'Feature': feature_names, 'Importance': importances})\n",
    "importances_df = importances_df.sort_values(by='Importance', ascending=False)"
   ]
  },
  {
   "cell_type": "code",
   "execution_count": 12,
   "metadata": {},
   "outputs": [],
   "source": [
    "def group_importances(df, original_variable):\n",
    "    df[f'sub_{original_variable}'] = df['Feature'].apply(lambda x: 1 if original_variable in x else 0)\n",
    "\n",
    "    style_row = pd.DataFrame({\n",
    "        'Feature': [original_variable],\n",
    "        'Importance': [df[df[f'sub_{original_variable}'] == 1]['Importance'].sum()],\n",
    "        f'sub_{original_variable}': [0]\n",
    "    })\n",
    "    \n",
    "    df = pd.concat([df, style_row], axis=0)\n",
    "    df.reset_index(inplace=True, drop=True)\n",
    "    \n",
    "    to_drop_rows = df[df[f'sub_{original_variable}'] == 1].index\n",
    "    df.drop(to_drop_rows, axis=0, inplace=True)\n",
    "    df.drop(columns=f'sub_{original_variable}', inplace=True)\n",
    "    \n",
    "    df.sort_values(by='Importance', ascending=False, inplace=True)\n",
    "    df.reset_index(inplace=True, drop=True)\n",
    "    \n",
    "    return df"
   ]
  },
  {
   "cell_type": "code",
   "execution_count": null,
   "metadata": {},
   "outputs": [],
   "source": [
    "importances_df = group_importances(importances_df, 'Style')\n",
    "importances_df = group_importances(importances_df, 'Color')\n",
    "importances_df = group_importances(importances_df, 'Material')\n",
    "importances_df = group_importances(importances_df, 'Brand')"
   ]
  },
  {
   "cell_type": "code",
   "execution_count": 14,
   "metadata": {},
   "outputs": [
    {
     "name": "stderr",
     "output_type": "stream",
     "text": [
      "/var/folders/yl/0x3dd7c54t1_c1v97db4kly40000gn/T/ipykernel_98072/3629139604.py:2: FutureWarning: \n",
      "\n",
      "Passing `palette` without assigning `hue` is deprecated and will be removed in v0.14.0. Assign the `y` variable to `hue` and set `legend=False` for the same effect.\n",
      "\n",
      "  sns.barplot(x='Importance', y='Feature', data=importances_df, palette='viridis')\n"
     ]
    },
    {
     "data": {
      "image/png": "[encoded data removed]",
      "text/plain": [
       "<Figure size 500x300 with 1 Axes>"
      ]
     },
     "metadata": {},
     "output_type": "display_data"
    }
   ],
   "source": [
    "plt.figure(figsize=(5, 3))\n",
    "sns.barplot(x='Importance', y='Feature', data=importances_df, palette='viridis')\n",
    "plt.title('Feature Importances LGBM')\n",
    "plt.xlabel('Importance')\n",
    "plt.ylabel('Feature')\n",
    "plt.show()"
   ]
  },
  {
   "cell_type": "code",
   "execution_count": 15,
   "metadata": {},
   "outputs": [],
   "source": [
    "importances = abs(linreg.coef_)\n",
    "\n",
    "importances_df = pd.DataFrame({'Feature': feature_names, 'Importance': importances})\n",
    "importances_df = importances_df.sort_values(by='Importance', ascending=False)"
   ]
  },
  {
   "cell_type": "code",
   "execution_count": 16,
   "metadata": {},
   "outputs": [],
   "source": [
    "importances_df = group_importances(importances_df, 'Style')\n",
    "importances_df = group_importances(importances_df, 'Color')\n",
    "importances_df = group_importances(importances_df, 'Material')\n",
    "importances_df = group_importances(importances_df, 'Brand')"
   ]
  },
  {
   "cell_type": "code",
   "execution_count": 18,
   "metadata": {},
   "outputs": [
    {
     "name": "stderr",
     "output_type": "stream",
     "text": [
      "/var/folders/yl/0x3dd7c54t1_c1v97db4kly40000gn/T/ipykernel_98072/3629139604.py:2: FutureWarning: \n",
      "\n",
      "Passing `palette` without assigning `hue` is deprecated and will be removed in v0.14.0. Assign the `y` variable to `hue` and set `legend=False` for the same effect.\n",
      "\n",
      "  sns.barplot(x='Importance', y='Feature', data=importances_df, palette='viridis')\n"
     ]
    },
    {
     "data": {
      "image/png": "[encoded data removed]",
      "text/plain": [
       "<Figure size 500x300 with 1 Axes>"
      ]
     },
     "metadata": {},
     "output_type": "display_data"
    }
   ],
   "source": [
    "plt.figure(figsize=(5, 3))\n",
    "sns.barplot(x='Importance', y='Feature', data=importances_df, palette='viridis')\n",
    "plt.title('Feature Importances LGBM')\n",
    "plt.xlabel('Importance')\n",
    "plt.ylabel('Feature')\n",
    "plt.show()"
   ]
  },
  {
   "cell_type": "code",
   "execution_count": null,
   "metadata": {},
   "outputs": [],
   "source": []
  }
 ],
 "metadata": {
  "kernelspec": {
   "display_name": "pyenv3-10",
   "language": "python",
   "name": "python3"
  },
  "language_info": {
   "codemirror_mode": {
    "name": "ipython",
    "version": 3
   },
   "file_extension": ".py",
   "mimetype": "text/x-python",
   "name": "python",
   "nbconvert_exporter": "python",
   "pygments_lexer": "ipython3",
   "version": "3.10.15"
  }
 },
 "nbformat": 4,
 "nbformat_minor": 2
}
